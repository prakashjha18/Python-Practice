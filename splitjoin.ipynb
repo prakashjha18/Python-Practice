{
 "cells": [
  {
   "cell_type": "code",
   "execution_count": 7,
   "metadata": {},
   "outputs": [
    {
     "name": "stdout",
     "output_type": "stream",
     "text": [
      "Enter your birthday in dd-mm-yy25-may-2000\n",
      "['25', 'may', '2000']\n",
      "25-may-2000\n",
      "{'day': 25, 'month': 'may', 'year': 2000}\n"
     ]
    }
   ],
   "source": [
    "def split_string(string): \n",
    "    # Split the string based on space delimiter \n",
    "    list_string = string.split('-') \n",
    "    return list_string \n",
    "\n",
    "def join_string(list_string): \n",
    "    # Join the string based on '-' delimiter \n",
    "    string = '-'.join(list_string) \n",
    "    return string \n",
    "  \n",
    "string = input('Enter your birthday in dd-mm-yy')\n",
    "      \n",
    "# Splitting a string \n",
    "list_string = split_string(string) \n",
    "print(list_string) \n",
    "  \n",
    "# Join list of strings into one \n",
    "new_string = join_string(list_string) \n",
    "print(new_string)\n",
    "\n",
    "my_dict = {'day':'','month':'','year':''}\n",
    "my_dict['day']=int(list_string[0])\n",
    "my_dict['month']=list_string[1]\n",
    "my_dict['year']=int(list_string[2])\n",
    "print(my_dict)"
   ]
  }
 ],
 "metadata": {
  "kernelspec": {
   "display_name": "Python 3",
   "language": "python",
   "name": "python3"
  },
  "language_info": {
   "codemirror_mode": {
    "name": "ipython",
    "version": 3
   },
   "file_extension": ".py",
   "mimetype": "text/x-python",
   "name": "python",
   "nbconvert_exporter": "python",
   "pygments_lexer": "ipython3",
   "version": "3.7.1"
  }
 },
 "nbformat": 4,
 "nbformat_minor": 2
}
