{
 "cells": [
  {
   "cell_type": "code",
   "execution_count": 153,
   "metadata": {},
   "outputs": [
    {
     "name": "stdout",
     "output_type": "stream",
     "text": [
      "Enter first number:6\n",
      "Enter second number:9\n",
      "GCD is: \n",
      "3\n"
     ]
    }
   ],
   "source": [
    "#1.find GCD of 2 numbers\n",
    "def gcd(a,b):\n",
    "    if(b==0):\n",
    "        return a\n",
    "    else:\n",
    "        return gcd(b,a%b)\n",
    "a=int(input(\"Enter first number:\"))\n",
    "b=int(input(\"Enter second number:\"))\n",
    "GCD=gcd(a,b)\n",
    "print(\"GCD is: \")\n",
    "print(GCD)\n"
   ]
  },
  {
   "cell_type": "code",
   "execution_count": 156,
   "metadata": {},
   "outputs": [
    {
     "name": "stdout",
     "output_type": "stream",
     "text": [
      "Enter any number4\n",
      "THE SQUARE ROOT OF 4.0000 is 2.00000\n",
      "Enter the exponent value5\n",
      "THE EXPONENTIATION OF 4.000 raise to 5.000 is 1024.000\n"
     ]
    }
   ],
   "source": [
    "#2square root of a number\n",
    "num=int(input(\"Enter any number\"))\n",
    "num_sqrt=num ** 0.5\n",
    "print(\"THE SQUARE ROOT OF %0.4f is %0.5f\"%(num,num_sqrt))\n",
    "#3exponentiation of a number\n",
    "exp=int(input(\"Enter the exponent value\"))\n",
    "print(\"THE EXPONENTIATION OF %0.3f raise to %0.3f is %0.3f\"%(num,exp,num**exp))\n"
   ]
  },
  {
   "cell_type": "code",
   "execution_count": 157,
   "metadata": {},
   "outputs": [
    {
     "name": "stdout",
     "output_type": "stream",
     "text": [
      "Enter number of elements:5\n",
      "Enter element:3\n",
      "Enter element:6\n",
      "Enter element:7\n",
      "Enter element:3\n",
      "Enter element:4\n",
      "Largest element is: 7\n"
     ]
    }
   ],
   "source": [
    "#4 maximum in a list\n",
    "a=[]\n",
    "n=int(input(\"Enter number of elements:\"))\n",
    "for i in range(1,n+1):\n",
    "    b=int(input(\"Enter element:\"))\n",
    "    a.append(b)\n",
    "a.sort()\n",
    "print(\"Largest element is:\",a[n-1])\n"
   ]
  },
  {
   "cell_type": "code",
   "execution_count": 162,
   "metadata": {},
   "outputs": [
    {
     "name": "stdout",
     "output_type": "stream",
     "text": [
      "Enter the sorted list of numbers: 1 2 3 4 5 6\n",
      "[1, 2, 3, 4, 5, 6]\n",
      "The number to search for: 5\n",
      "Enter 1 for binary search and 2 for linear search2\n",
      "5 was found at index 4.\n"
     ]
    }
   ],
   "source": [
    "#5.Linear and binary search\n",
    "def binary_search(list, key):\n",
    "    start = 0\n",
    "    end = len(list)\n",
    "    while start < end:\n",
    "        mid = (start + end)//2\n",
    "        if list[mid] > key:\n",
    "            end = mid\n",
    "        elif list[mid] < key:\n",
    "            start = mid + 1\n",
    "        else:\n",
    "            return mid\n",
    "    return -1\n",
    "def linear_search(list, key):\n",
    "    for i in range(len(list)):\n",
    "        if list[i] == key:\n",
    "            return i\n",
    "    return -1\n",
    "list = input('Enter the sorted list of numbers: ')\n",
    "list = list.split()\n",
    "list = [int(x) for x in list]\n",
    "key = int(input('The number to search for: '))\n",
    "case =int(input('Enter 1 for binary search and 2 for linear search'))\n",
    "if(case==1): \n",
    "    index = binary_search(list, key)\n",
    "    if index < 0:\n",
    "        print('{} was not found.'.format(key))\n",
    "    else:\n",
    "        print('{} was found at index {}.'.format(key, index))\n",
    "else:\n",
    "    index = linear_search(list,key)\n",
    "    if index < 0:\n",
    "        print('{} was not found.'.format(key))\n",
    "    else:\n",
    "        print('{} was found at index {}.'.format(key, index))\n"
   ]
  },
  {
   "cell_type": "code",
   "execution_count": 163,
   "metadata": {},
   "outputs": [
    {
     "name": "stdout",
     "output_type": "stream",
     "text": [
      "Enter the list of numbers: 5 3 6 2 7 3 9\n",
      "ENTER 1 for selection sort and 2 for inserion sort1\n",
      "Sorted list: [2, 3, 3, 5, 6, 7, 9]\n"
     ]
    }
   ],
   "source": [
    "# 6 selection and insertion sort\n",
    "def selection_sort(alist):\n",
    "    for i in range(0, len(alist) - 1):\n",
    "        smallest = i\n",
    "        for j in range(i + 1, len(alist)):\n",
    "            if alist[j] < alist[smallest]:\n",
    "                smallest = j\n",
    "        alist[i], alist[smallest] = alist[smallest], alist[i]\n",
    "def insertion_sort(alist):\n",
    "    for i in range(1, len(alist)):\n",
    "        temp = alist[i]\n",
    "        j = i - 1\n",
    "        while (j >= 0 and temp < alist[j]):\n",
    "            alist[j + 1] = alist[j]\n",
    "            j = j - 1\n",
    "        alist[j + 1] = temp \n",
    "alist = input('Enter the list of numbers: ').split()\n",
    "alist = [int(x) for x in alist]\n",
    "case=int(input('ENTER 1 for selection sort and 2 for inserion sort'))\n",
    "if case==1 :   \n",
    "    insertion_sort(alist)\n",
    "    print('Sorted list: ', end='')\n",
    "    print(alist)\n",
    "else:\n",
    "     selection_sort(alist)\n",
    "     print('Sorted list: ', end='')\n",
    "     print(alist)          \n"
   ]
  },
  {
   "cell_type": "code",
   "execution_count": 165,
   "metadata": {},
   "outputs": [
    {
     "name": "stdout",
     "output_type": "stream",
     "text": [
      "Enter upper limit7\n",
      "2\n",
      "3\n",
      "5\n",
      "7\n"
     ]
    }
   ],
   "source": [
    "# 7 prime no.s\n",
    "r=int(input(\"Enter upper limit\"))\n",
    "for a in range(2,r+1):\n",
    "    k=0\n",
    "    for i in range(2,a//2+1):\n",
    "        if(a%i==0):\n",
    "            k=k+1\n",
    "    if(k<=0):\n",
    "        print(a)\n"
   ]
  },
  {
   "cell_type": "code",
   "execution_count": 166,
   "metadata": {},
   "outputs": [
    {
     "ename": "SyntaxError",
     "evalue": "invalid character in identifier (<ipython-input-166-50bba2a4d298>, line 3)",
     "output_type": "error",
     "traceback": [
      "\u001b[1;36m  File \u001b[1;32m\"<ipython-input-166-50bba2a4d298>\"\u001b[1;36m, line \u001b[1;32m3\u001b[0m\n\u001b[1;33m    for i in range(len(matrix)):\u001b[0m\n\u001b[1;37m      ^\u001b[0m\n\u001b[1;31mSyntaxError\u001b[0m\u001b[1;31m:\u001b[0m invalid character in identifier\n"
     ]
    }
   ],
   "source": [
    "# 8 matrix multiplication\n",
    "def print_matrix(matrix):\n",
    "    for i in range(len(matrix)):\n",
    "        for j in range(len(matrix[0])):\n",
    "            print(\"\\t\",matrix[i][j],end=\" \")\n",
    "        print(\"\\n\")\n",
    " \n",
    "def main():\n",
    "    m = int( input(\"enter first matrix rows\"))\n",
    "    n = int( input(\"enter first matrix columns\"))\n",
    "    p = int( input(\"enter second matrix rows\"))\n",
    "    q = int( input(\"enter second matrix columns\"))\n",
    "    if( n != p):\n",
    "        print (\"matrice multipilication not possible...\")\n",
    "        exit()\n",
    "    \n",
    "#declaration of arrays\n",
    "    array1=[[0 for j in range  (0 , n)] for i in range (0 , m)]\n",
    "    array2=[[0 for j in range  (0 , q)] for i in range (0 , p)]\n",
    "    result=[[0 for j in range  (0 , q)] for i in range (0 , m)]\n",
    " \n",
    "#taking input from user\n",
    "    print (\"enter first matrix elements:\" )\n",
    "    for i in range(0 , m):\n",
    "        for j in range(0 , n):\n",
    "            array1[i][j]=int (input(\"enter element\"))\n",
    "    print (\"enter second matrix elements:\")\n",
    "    for i in range(0 , p):\n",
    "        for j in range(0 , q):\n",
    "            array2[i][j]=int(input(\"enter element\"))\n",
    "    print (\"first matrix\")\n",
    "    print_matrix(array1)\n",
    "    print (\"second matrix\")\n",
    "    print_matrix(array2)\n",
    "    \n",
    "#for multiplication\n",
    "    # i will run throgh each row of matrix1\n",
    "    for i in range(0 , m):\n",
    "    # j will run through each column of matrix 2\n",
    "        for j in range(0 , q):\n",
    "        # k will run throguh each row of matrix 2\n",
    "            for k in range(0 , n):\n",
    "                result[i][j] += array1[i][k] * array2[k][j]\n",
    "                \n",
    "                \n",
    "#printing result\n",
    "    print ( \"multiplication of two matrices:\" )\n",
    "    print_matrix(result)\n",
    "    \n",
    "main()\n"
   ]
  },
  {
   "cell_type": "code",
   "execution_count": 189,
   "metadata": {},
   "outputs": [
    {
     "name": "stdout",
     "output_type": "stream",
     "text": [
      "Most repeated word: good\n"
     ]
    }
   ],
   "source": [
    "#10 most frequent word in text read from file\n",
    "count = 0;  \n",
    "word = \"\";  \n",
    "maxCount = 0;  \n",
    "words = [];  \n",
    "   \n",
    "#Opens a file in read mode  \n",
    "my_file = open('fil2.txt','w+')\n",
    "my_file.write('hello good hello good hello good good')\n",
    "my_file.seek(0)\n",
    "#Gets each line till end of file is reached  \n",
    "for line in my_file:  \n",
    "    #Splits each line into words  \n",
    "    string = line.lower().replace(',','').replace('.','').split(\" \");  \n",
    "    #Adding all words generated in previous step into words  \n",
    "    for s in string:  \n",
    "        words.append(s); \n",
    "   \n",
    "#Determine the most repeated word in a file  \n",
    "for i in range(0, len(words)):  \n",
    "    count = 1;  \n",
    "    #Count each word in the file and store it in variable count  \n",
    "    for j in range(i+1, len(words)):  \n",
    "        if(words[i] == words[j]):  \n",
    "            count = count + 1;  \n",
    "              \n",
    "    #If maxCount is less than count then store value of count in maxCount  \n",
    "    #and corresponding word to variable word  \n",
    "    if(count > maxCount):  \n",
    "        maxCount = count;  \n",
    "        word = words[i];  \n",
    "          \n",
    "print(\"Most repeated word: \" + word);  \n",
    "my_file.close();  \n"
   ]
  },
  {
   "cell_type": "code",
   "execution_count": 123,
   "metadata": {},
   "outputs": [
    {
     "name": "stdout",
     "output_type": "stream",
     "text": [
      "enter x12\n",
      "enter x23\n",
      "enter y14\n",
      "enter y25\n",
      "1.4142135623730951\n"
     ]
    }
   ],
   "source": [
    "#11 compute 3 point distance\n",
    "import math\n",
    "# p1 = [4, 0]\n",
    "# p2 = [6, 6]\n",
    "x1 = int(input('enter x1'))\n",
    "x2 = int(input('enter x2'))\n",
    "y1 = int(input('enter y1'))\n",
    "y2 = int(input('enter y2'))\n",
    "distance = math.sqrt( ((x1-x2)**2)+((y1-y2)**2) )\n",
    "\n",
    "print(distance)"
   ]
  },
  {
   "cell_type": "code",
   "execution_count": 124,
   "metadata": {},
   "outputs": [
    {
     "name": "stdout",
     "output_type": "stream",
     "text": [
      "Enter a number: 7\n",
      "7 is Odd\n"
     ]
    }
   ],
   "source": [
    "#12 even or odd\n",
    "num = int(input(\"Enter a number: \"))\n",
    "if (num % 2) == 0:\n",
    "   print(\"{} is Even\".format(num))\n",
    "else:\n",
    "   print(\"{} is Odd\".format(num))"
   ]
  },
  {
   "cell_type": "code",
   "execution_count": 128,
   "metadata": {},
   "outputs": [
    {
     "name": "stdout",
     "output_type": "stream",
     "text": [
      "1.0\n",
      "0.5\n",
      "0.3333333333333333\n",
      "0.25\n",
      "0.2\n",
      "0.16666666666666666\n",
      "0.14285714285714285\n",
      "0.125\n",
      "0.1111111111111111\n",
      "0.1\n"
     ]
    }
   ],
   "source": [
    "#13print decimal equivalent\n",
    "for x in range(1,11):\n",
    "    n=1/x\n",
    "    print(n)"
   ]
  },
  {
   "cell_type": "code",
   "execution_count": 129,
   "metadata": {},
   "outputs": [
    {
     "name": "stdout",
     "output_type": "stream",
     "text": [
      "enter a number5\n",
      "5\n",
      "4\n",
      "3\n",
      "2\n",
      "1\n",
      "0\n",
      "Action!\n"
     ]
    }
   ],
   "source": [
    "#14 countdown\n",
    "countDown = int(input('enter a number'))\n",
    "while (countDown >= 0):\n",
    "    print(countDown)\n",
    "    countDown = countDown - 1\n",
    "print('Action!')"
   ]
  },
  {
   "cell_type": "code",
   "execution_count": 130,
   "metadata": {},
   "outputs": [
    {
     "name": "stdout",
     "output_type": "stream",
     "text": [
      "enter a stringtdvscdbkkdhfhffgfgfg\n",
      "Count of all characters in tdvscdbkkdhfhffgfgfg is :\n",
      " {'t': 1, 'd': 3, 'v': 1, 's': 1, 'c': 1, 'b': 1, 'k': 2, 'h': 2, 'f': 5, 'g': 3}\n"
     ]
    }
   ],
   "source": [
    "#15 count no. of char in string and store in dict\n",
    "test_str = input('enter a string')\n",
    "   \n",
    "all_freq = {} \n",
    "  \n",
    "for i in test_str: \n",
    "    if i in all_freq: \n",
    "        all_freq[i] += 1\n",
    "    else: \n",
    "        all_freq[i] = 1\n",
    "  \n",
    "# printing result  \n",
    "print (\"Count of all characters in {} is :\\n \".format(test_str)\n",
    "                                        +  str(all_freq))"
   ]
  },
  {
   "cell_type": "code",
   "execution_count": 131,
   "metadata": {},
   "outputs": [
    {
     "name": "stdout",
     "output_type": "stream",
     "text": [
      "Enter your birthday in dd-mm-yy25-may-2000\n",
      "['25', 'may', '2000']\n",
      "25-may-2000\n",
      "{'day': 25, 'month': 'may', 'year': 2000}\n"
     ]
    }
   ],
   "source": [
    "#16 split and join method in string \n",
    "def split_string(string): \n",
    "    # Split the string based on space delimiter \n",
    "    list_string = string.split('-') \n",
    "    return list_string \n",
    "\n",
    "def join_string(list_string): \n",
    "    # Join the string based on '-' delimiter \n",
    "    string = '-'.join(list_string) \n",
    "    return string \n",
    "  \n",
    "string = input('Enter your birthday in dd-mm-yy')\n",
    "      \n",
    "# Splitting a string \n",
    "list_string = split_string(string) \n",
    "print(list_string) \n",
    "  \n",
    "# Join list of strings into one \n",
    "new_string = join_string(list_string) \n",
    "print(new_string)\n",
    "\n",
    "my_dict = {'day':'','month':'','year':''}\n",
    "my_dict['day']=int(list_string[0])\n",
    "my_dict['month']=list_string[1]\n",
    "my_dict['year']=int(list_string[2])\n",
    "print(my_dict)"
   ]
  },
  {
   "cell_type": "code",
   "execution_count": 132,
   "metadata": {},
   "outputs": [
    {
     "name": "stdout",
     "output_type": "stream",
     "text": [
      "Enter number of elements for dictionary:4\n",
      "For keys:\n",
      "Enter element1:1\n",
      "Enter element2:2\n",
      "Enter element3:3\n",
      "Enter element4:4\n",
      "For values:\n",
      "Enter element1:fg\n",
      "Enter element2:d\n",
      "Enter element3:dr\n",
      "Enter element4:s\n",
      "The dictionary is:\n",
      "{1: 'fg', 2: 'd', 3: 'dr', 4: 's'}\n"
     ]
    }
   ],
   "source": [
    "#17 combine lists into dictionary\n",
    "keys=[]\n",
    "values=[]\n",
    "n=int(input(\"Enter number of elements for dictionary:\"))\n",
    "print(\"For keys:\")\n",
    "for x in range(0,n):\n",
    "    element=int(input(\"Enter element\" + str(x+1) + \":\"))\n",
    "    keys.append(element)\n",
    "print(\"For values:\")\n",
    "for x in range(0,n):\n",
    "    element=input(\"Enter element\" + str(x+1) + \":\")\n",
    "    values.append(element)\n",
    "d=dict(zip(keys,values))\n",
    "print(\"The dictionary is:\")\n",
    "print(d)"
   ]
  },
  {
   "cell_type": "code",
   "execution_count": null,
   "metadata": {},
   "outputs": [],
   "source": [
    "# 18) print each line of file in reverse order\n",
    "my_file = open('fil2.txt','w+')\n",
    "my_file.write('line1\\nline2\\nline3')\n",
    "for line in reversed(list(open('fil2.txt'))):\n",
    "    print(line.rstrip())"
   ]
  },
  {
   "cell_type": "code",
   "execution_count": 148,
   "metadata": {},
   "outputs": [
    {
     "name": "stdout",
     "output_type": "stream",
     "text": [
      "3\n",
      "7\n",
      "31\n"
     ]
    }
   ],
   "source": [
    "# 19 compute lines chars & words in a file\n",
    "fname = \"file1.txt\"\n",
    "\n",
    "num_lines = 0\n",
    "num_words = 0\n",
    "num_chars = 0\n",
    "\n",
    "with open(fname, 'r') as f:\n",
    "    for line in f:\n",
    "        words = line.split()\n",
    "\n",
    "        num_lines += 1\n",
    "        num_words += len(words)\n",
    "        num_chars += len(line)\n",
    "print(num_lines)\n",
    "print(num_words)\n",
    "print(num_chars)"
   ]
  },
  {
   "cell_type": "code",
   "execution_count": null,
   "metadata": {},
   "outputs": [],
   "source": [
    "# 20 mean\n",
    "n_num = [1, 2, 3, 4, 5] \n",
    "n = len(n_num) \n",
    "  \n",
    "get_sum = sum(n_num) \n",
    "mean = get_sum / n \n",
    "  \n",
    "print(\"Mean / Average is: \" + str(mean))\n",
    "#median\n",
    "import math\n",
    "numbers = [3,10,36,255,79,24,5,8] \n",
    "numbers.sort()\n",
    "x= len(numbers)\n",
    "y= int(x/2)\n",
    "print(\"median is: \")\n",
    "if (x % 2 == 0):\n",
    "    print((numbers[y] + numbers[y-1])/2)\n",
    "else:\n",
    "    print(numbers[math.floor(x/2)])\n",
    "#mode\n",
    "lst = [2,5,5,6,8,8,9,11]\n",
    "print(\"mode is\")\n",
    "max(lst,key=lst.count)"
   ]
  },
  {
   "cell_type": "code",
   "execution_count": 98,
   "metadata": {},
   "outputs": [
    {
     "name": "stdout",
     "output_type": "stream",
     "text": [
      "[1, 2]\n"
     ]
    }
   ],
   "source": [
    "# 21 find duplicate list elements\n",
    "list=[1,2,3,4,2,1,2]\n",
    "repeated=[]\n",
    "size=len(list)\n",
    "def dup():\n",
    "    for i in range(size):\n",
    "        k=i+1\n",
    "        for j in range(k,size):\n",
    "            if list[i]==list[j] and list[i] not in repeated:\n",
    "                repeated.append(list[i])\n",
    "dup()\n",
    "print(repeated)\n"
   ]
  },
  {
   "cell_type": "code",
   "execution_count": 100,
   "metadata": {},
   "outputs": [
    {
     "name": "stdout",
     "output_type": "stream",
     "text": [
      "{1, 2, 3, 4}\n"
     ]
    }
   ],
   "source": [
    "# 22. find unique list elements\n",
    "list=[1,2,3,4,2,1,2]\n",
    "unique=[]\n",
    "size=len(list)\n",
    "def uni():\n",
    "    for i in range(size):\n",
    "        k=i+1\n",
    "        for j in range(k,size):\n",
    "            if list[i]!=list[j] and list[i] not in unique:\n",
    "                unique.append(list[i])\n",
    "uni()\n",
    "print(unique)\n"
   ]
  },
  {
   "cell_type": "code",
   "execution_count": 101,
   "metadata": {},
   "outputs": [
    {
     "name": "stdout",
     "output_type": "stream",
     "text": [
      "[41, 902, 79376, 396880, 3571920]\n"
     ]
    }
   ],
   "source": [
    "# 23. #function cumulative_product to compute cumulative product of a list of numbers\n",
    "list=[41,22,88,5,9]\n",
    "size=len(list)\n",
    "p=[]\n",
    "def cumulative_product():\n",
    "    s=1\n",
    "    for i in range(size):\n",
    "        s=s*list[i]\n",
    "        p.append(s)\n",
    "    return p\n",
    "cumulative_product()\n",
    "print(p)\n"
   ]
  },
  {
   "cell_type": "code",
   "execution_count": 119,
   "metadata": {},
   "outputs": [
    {
     "name": "stdout",
     "output_type": "stream",
     "text": [
      "[5, 4, 3, 2, 1]\n"
     ]
    }
   ],
   "source": [
    "#24. #function reverse to reverse a list.\n",
    "list=[1,2,3,4,5]\n",
    "rev=[]\n",
    "\n",
    "def reverse():\n",
    "    s = len(list)\n",
    "    for i in range(s-1,-1,-1):\n",
    "        rev.append(list[i])\n",
    "reverse()\n",
    "print(rev)\n"
   ]
  },
  {
   "cell_type": "code",
   "execution_count": 120,
   "metadata": {},
   "outputs": [
    {
     "name": "stdout",
     "output_type": "stream",
     "text": [
      "Enter the number of rows:3\n",
      "Enter the number of columns:3\n",
      "enter row-wise\n",
      "1\n",
      "2\n",
      "3\n",
      "4\n",
      "5\n",
      "6\n",
      "7\n",
      "8\n",
      "9\n",
      "1 2 3 \n",
      "4 5 6 \n",
      "7 8 9 \n"
     ]
    }
   ],
   "source": [
    "#25. #defines a matrix and prints.\n",
    "r= int(input(\"Enter the number of rows:\"))\n",
    "c= int(input(\"Enter the number of columns:\"))\n",
    "matrix=[]\n",
    "print(\"enter row-wise\")\n",
    "for i in range(r):\n",
    "    a=[]\n",
    "    for j in range(c):\n",
    "        a.append(int(input()))\n",
    "    matrix.append(a)\n",
    "for i in range(r):\n",
    "    for j in range(c):\n",
    "        print(matrix[i][j],end=\" \")\n",
    "    print()\n"
   ]
  },
  {
   "cell_type": "code",
   "execution_count": 122,
   "metadata": {},
   "outputs": [
    {
     "name": "stdout",
     "output_type": "stream",
     "text": [
      "value of n:3\n",
      "6\n"
     ]
    }
   ],
   "source": [
    "#29. #SUM OF NATURAL NUMBERS UP TO N USING RECURSIVE FUNCTION\n",
    "s=0\n",
    "n=int(input(\"value of n:\"))\n",
    "def sum(n):\n",
    "    if (n<1):\n",
    "        return 0\n",
    "    else :\n",
    "        return n+sum(n-1)\n",
    "print(sum(n))\n"
   ]
  },
  {
   "cell_type": "code",
   "execution_count": 8,
   "metadata": {},
   "outputs": [
    {
     "name": "stdout",
     "output_type": "stream",
     "text": [
      "Enter a number: 371\n",
      "371 is an Armstrong number\n"
     ]
    }
   ],
   "source": [
    "# 30 armstrong no. or not\n",
    "num = int(input(\"Enter a number: \"))\n",
    "\n",
    "\n",
    "sum = 0\n",
    "\n",
    "\n",
    "temp = num\n",
    "while temp > 0:\n",
    "   digit = temp % 10\n",
    "   sum += digit ** 3\n",
    "   temp //= 10\n",
    "   \n",
    "   \n",
    "if num == sum:\n",
    "   print(num,\"is an Armstrong number\")\n",
    "else:\n",
    "   print(num,\"is not an Armstrong number\")\n",
    "-"
   ]
  },
  {
   "cell_type": "code",
   "execution_count": 10,
   "metadata": {},
   "outputs": [
    {
     "name": "stdout",
     "output_type": "stream",
     "text": [
      "1505\n",
      "1540\n",
      "1575\n",
      "1610\n",
      "1645\n",
      "1680\n",
      "1715\n",
      "1750\n",
      "1785\n",
      "1820\n",
      "1855\n",
      "1890\n",
      "1925\n",
      "1960\n",
      "1995\n",
      "2030\n",
      "2065\n",
      "2100\n",
      "2135\n",
      "2170\n",
      "2205\n",
      "2240\n",
      "2275\n",
      "2310\n",
      "2345\n",
      "2380\n",
      "2415\n",
      "2450\n",
      "2485\n",
      "2520\n",
      "2555\n",
      "2590\n",
      "2625\n",
      "2660\n",
      "2695\n"
     ]
    }
   ],
   "source": [
    "# 32 divisible by 7 & 5 between 1500 - 2700\n",
    "lower=1500\n",
    "upper=2701\n",
    "for i in range (lower,upper+1):\n",
    "    if(i%7==0 and i%5==0):\n",
    "        print(i)"
   ]
  },
  {
   "cell_type": "code",
   "execution_count": 112,
   "metadata": {},
   "outputs": [
    {
     "name": "stdout",
     "output_type": "stream",
     "text": [
      "\n",
      "* \n",
      "* * \n",
      "* * * \n",
      "* * * * \n",
      "* * * * * \n",
      "* * * * \n",
      "* * * \n",
      "* * \n",
      "* \n"
     ]
    }
   ],
   "source": [
    "# 33 pattern\n",
    "n=5;\n",
    "for i in range(n):\n",
    "    for j in range(i):\n",
    "        print ('* ', end=\"\")\n",
    "    print('')\n",
    "\n",
    "for i in range(n,0,-1):\n",
    "    for j in range(i):\n",
    "        print('* ', end=\"\")\n",
    "    print('')\n"
   ]
  },
  {
   "cell_type": "code",
   "execution_count": 45,
   "metadata": {},
   "outputs": [
    {
     "name": "stdout",
     "output_type": "stream",
     "text": [
      "1\n",
      "1\n",
      "2\n",
      "3\n",
      "5\n",
      "8\n",
      "13\n",
      "21\n",
      "34\n"
     ]
    }
   ],
   "source": [
    "# 34 fibonacci betwen 0-50\n",
    "x,y=0,1\n",
    "\n",
    "while y<50:\n",
    "    print(y)\n",
    "    x,y = y,x+y\n"
   ]
  },
  {
   "cell_type": "code",
   "execution_count": 51,
   "metadata": {},
   "outputs": [
    {
     "name": "stdout",
     "output_type": "stream",
     "text": [
      "*\n",
      "*\n",
      "*\n",
      "*\n",
      "*\n",
      "*\n",
      "*****\n",
      "\n"
     ]
    }
   ],
   "source": [
    "#35 to print alphabet pattern L\n",
    "result_str=\"\";    \n",
    "for row in range(0,7):    \n",
    "    for column in range(0,7):     \n",
    "        if (column == 1 or (row == 6 and column != 0 and column < 6)):  \n",
    "            result_str=result_str+\"*\"    \n",
    "        else:      \n",
    "            result_str=result_str+\"\"    \n",
    "    result_str=result_str+\"\\n\"    \n",
    "print(result_str);"
   ]
  },
  {
   "cell_type": "code",
   "execution_count": 66,
   "metadata": {},
   "outputs": [
    {
     "name": "stdout",
     "output_type": "stream",
     "text": [
      "  *       *   \n",
      "  *       *   \n",
      "  * *   * *   \n",
      "  *   *   *   \n",
      "  *       *   \n",
      "  *       *   \n",
      "  *       *   \n",
      "\n"
     ]
    }
   ],
   "source": [
    "# 36 print M\n",
    "result_str=\"\";    \n",
    "for row in range(0,7):    \n",
    "    for column in range(0,7):     \n",
    "        if (column == 1 or column == 5 or (row == 2 and (column == 2 or column == 4)) or (row == 3 and column == 3)):  \n",
    "            result_str=result_str+\"* \"    \n",
    "        else:      \n",
    "            result_str=result_str+\"  \"    \n",
    "    result_str=result_str+\"\\n\"    \n",
    "print(result_str);"
   ]
  },
  {
   "cell_type": "code",
   "execution_count": 70,
   "metadata": {},
   "outputs": [
    {
     "name": "stdout",
     "output_type": "stream",
     "text": [
      "  ***  \n",
      " *   * \n",
      " *   * \n",
      " *   * \n",
      " *   * \n",
      " *   * \n",
      "  ***  \n",
      "\n"
     ]
    }
   ],
   "source": [
    "# 37 print o\n",
    "result_str=\"\";    \n",
    "for row in range(0,7):    \n",
    "    for column in range(0,7):     \n",
    "        if (((column == 1 or column == 5) and row != 0 and row != 6) or ((row == 0 or row == 6) and column > 1 and column < 5)):  \n",
    "            result_str=result_str+\"*\"    \n",
    "        else:      \n",
    "            result_str=result_str+\" \"    \n",
    "    result_str=result_str+\"\\n\"    \n",
    "print(result_str);"
   ]
  },
  {
   "cell_type": "code",
   "execution_count": 82,
   "metadata": {},
   "outputs": [
    {
     "name": "stdout",
     "output_type": "stream",
     "text": [
      " ****  \n",
      " *   * \n",
      " *   * \n",
      " ****  \n",
      " *     \n",
      " *     \n",
      " *     \n",
      "\n"
     ]
    }
   ],
   "source": [
    "#38 print p\n",
    "result_str=\"\";    \n",
    "for row in range(0,7):    \n",
    "    for column in range(0,7):     \n",
    "        if (column == 1 or ((row == 0 or row == 3) and column > 0 and column < 5) or ((column == 5) and (row == 1 or row == 2))):  \n",
    "            result_str=result_str+\"*\"    \n",
    "        else:      \n",
    "            result_str=result_str+\" \"    \n",
    "    result_str=result_str+\"\\n\"    \n",
    "print(result_str);"
   ]
  },
  {
   "cell_type": "code",
   "execution_count": 83,
   "metadata": {},
   "outputs": [
    {
     "name": "stdout",
     "output_type": "stream",
     "text": [
      " ****  \n",
      " *   * \n",
      " *   * \n",
      " ****  \n",
      " * *   \n",
      " *  *  \n",
      " *   * \n",
      "\n"
     ]
    }
   ],
   "source": [
    "#39 print R\n",
    "result_str=\"\";    \n",
    "for row in range(0,7):    \n",
    "    for column in range(0,7):     \n",
    "        if (column == 1 or ((row == 0 or row == 3) and column > 1 and column < 5) or (column == 5 and row != 0 and row < 3) or (column == row - 1 and row > 2)):  \n",
    "            result_str=result_str+\"*\"    \n",
    "        else:      \n",
    "            result_str=result_str+\" \"    \n",
    "    result_str=result_str+\"\\n\"    \n",
    "print(result_str);\n"
   ]
  },
  {
   "cell_type": "code",
   "execution_count": 86,
   "metadata": {},
   "outputs": [
    {
     "name": "stdout",
     "output_type": "stream",
     "text": [
      "Input birthday: 2\n",
      "Input month of birth (e.g. march, july etc): july\n",
      "Your Astrological sign is : Cancer\n"
     ]
    }
   ],
   "source": [
    "# 40 display astrological sign\n",
    "day = int(input(\"Input birthday: \"))\n",
    "month = input(\"Input month of birth (e.g. march, july etc): \")\n",
    "if month == 'december':\n",
    "    astro_sign = 'Sagittarius' if (day < 22) else 'capricorn'\n",
    "elif month == 'january':\n",
    "    astro_sign = 'Capricorn' if (day < 20) else 'aquarius'\n",
    "elif month == 'february':\n",
    "    astro_sign = 'Aquarius' if (day < 19) else 'pisces'\n",
    "elif month == 'march':\n",
    "    astro_sign = 'Pisces' if (day < 21) else 'aries'\n",
    "elif month == 'april':\n",
    "    astro_sign = 'Aries' if (day < 20) else 'taurus'\n",
    "elif month == 'may':\n",
    "    astro_sign = 'Taurus' if (day < 21) else 'gemini'\n",
    "elif month == 'june':\n",
    "    astro_sign = 'Gemini' if (day < 21) else 'cancer'\n",
    "elif month == 'july':\n",
    "    astro_sign = 'Cancer' if (day < 23) else 'leo'\n",
    "elif month == 'august':\n",
    "    astro_sign = 'Leo' if (day < 23) else 'virgo'\n",
    "elif month == 'september':\n",
    "    astro_sign = 'Virgo' if (day < 23) else 'libra'\n",
    "elif month == 'october':\n",
    "    astro_sign = 'Libra' if (day < 23) else 'scorpio'\n",
    "elif month == 'november':\n",
    "    astro_sign = 'scorpio' if (day < 22) else 'sagittarius'\n",
    "print(\"Your Astrological sign is :\",astro_sign)"
   ]
  },
  {
   "cell_type": "code",
   "execution_count": 94,
   "metadata": {},
   "outputs": [
    {
     "name": "stdout",
     "output_type": "stream",
     "text": [
      "input range3\n",
      "input numbers\n",
      "3\n",
      "2\n",
      "1\n",
      "sum of numbers is: 6.0\n",
      "average os numbers is: 2.0\n"
     ]
    }
   ],
   "source": [
    "# 41 print sum and average\n",
    "r = int(input('input range'))\n",
    "print('input numbers')\n",
    "summ = 0.0\n",
    "for i in range(r):\n",
    "    init = int(input())\n",
    "    summ+=init\n",
    "print('sum of numbers is:',summ)\n",
    "print('average os numbers is:',summ/r)\n"
   ]
  },
  {
   "cell_type": "code",
   "execution_count": 96,
   "metadata": {},
   "outputs": [
    {
     "name": "stdout",
     "output_type": "stream",
     "text": [
      "Input a number: 5\n",
      "5 x 1 = 5\n",
      "5 x 2 = 10\n",
      "5 x 3 = 15\n",
      "5 x 4 = 20\n",
      "5 x 5 = 25\n",
      "5 x 6 = 30\n",
      "5 x 7 = 35\n",
      "5 x 8 = 40\n",
      "5 x 9 = 45\n",
      "5 x 10 = 50\n"
     ]
    }
   ],
   "source": [
    "# 42 multiplication table\n",
    "n = int(input(\"Input a number: \"))\n",
    "for i in range(1,11):\n",
    "   print(n,'x',i,'=',n*i)"
   ]
  },
  {
   "cell_type": "code",
   "execution_count": null,
   "metadata": {},
   "outputs": [],
   "source": []
  }
 ],
 "metadata": {
  "kernelspec": {
   "display_name": "Python 3",
   "language": "python",
   "name": "python3"
  },
  "language_info": {
   "codemirror_mode": {
    "name": "ipython",
    "version": 3
   },
   "file_extension": ".py",
   "mimetype": "text/x-python",
   "name": "python",
   "nbconvert_exporter": "python",
   "pygments_lexer": "ipython3",
   "version": "3.7.1"
  }
 },
 "nbformat": 4,
 "nbformat_minor": 2
}
