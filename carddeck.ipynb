{
 "cells": [
  {
   "cell_type": "code",
   "execution_count": 1,
   "metadata": {},
   "outputs": [],
   "source": [
    "import random\n",
    "\n",
    "suits = ('Hearts', 'Diamonds', 'Spades', 'Clubs')\n",
    "ranks = ('Two', 'Three', 'Four', 'Five', 'Six', 'Seven', 'Eight', 'Nine', 'Ten', 'Jack', 'Queen', 'King', 'Ace')\n",
    "values = {'Two':2, 'Three':3, 'Four':4, 'Five':5, 'Six':6, 'Seven':7, 'Eight':8, 'Nine':9, 'Ten':10, 'Jack':10,\n",
    "         'Queen':10, 'King':10, 'Ace':11}\n",
    "\n",
    "playing = True"
   ]
  },
  {
   "cell_type": "code",
   "execution_count": 2,
   "metadata": {},
   "outputs": [],
   "source": [
    "class Card():\n",
    "\n",
    "    def __init__(self,suit,rank):\n",
    "        self.suit = suit\n",
    "        self.rank = rank\n",
    "        \n",
    "    def __str__(self):\n",
    "        return self.rank + ' of ' + self.suit"
   ]
  },
  {
   "cell_type": "code",
   "execution_count": 3,
   "metadata": {},
   "outputs": [],
   "source": [
    "class Deck:\n",
    "    \n",
    "    def __init__(self):\n",
    "        self.deck = []  # start with an empty list\n",
    "        for suit in suits:\n",
    "            for rank in ranks:\n",
    "                self.deck.append(Card(suit,rank))  # build Card objects and add them to the list\n",
    "    \n",
    "    def __str__(self):\n",
    "        deck_comp = ''  # start with an empty string\n",
    "        for card in self.deck:\n",
    "            deck_comp += '\\n '+card.__str__() # add each Card object's print string\n",
    "        return 'The deck has:' + deck_comp\n",
    "\n",
    "    def shuffle(self):\n",
    "        random.shuffle(self.deck)\n",
    "        \n",
    "    def deal(self):\n",
    "        single_card = self.deck.pop()\n",
    "        return single_card"
   ]
  },
  {
   "cell_type": "code",
   "execution_count": 4,
   "metadata": {},
   "outputs": [
    {
     "name": "stdout",
     "output_type": "stream",
     "text": [
      "The deck has:\n",
      " Four of Spades\n",
      " Ace of Spades\n",
      " Six of Clubs\n",
      " Four of Hearts\n",
      " Two of Hearts\n",
      " Two of Diamonds\n",
      " Jack of Hearts\n",
      " Six of Hearts\n",
      " Seven of Spades\n",
      " King of Clubs\n",
      " Five of Hearts\n",
      " Two of Spades\n",
      " Ace of Diamonds\n",
      " Four of Clubs\n",
      " Ace of Hearts\n",
      " Jack of Clubs\n",
      " Eight of Hearts\n",
      " Three of Diamonds\n",
      " Four of Diamonds\n",
      " Three of Clubs\n",
      " Jack of Diamonds\n",
      " Three of Hearts\n",
      " Ten of Diamonds\n",
      " Jack of Spades\n",
      " Queen of Diamonds\n",
      " King of Diamonds\n",
      " Nine of Hearts\n",
      " Ten of Hearts\n",
      " Six of Diamonds\n",
      " Queen of Hearts\n",
      " Eight of Diamonds\n",
      " Seven of Hearts\n",
      " Ace of Clubs\n",
      " Five of Spades\n",
      " Ten of Spades\n",
      " Eight of Spades\n",
      " Five of Diamonds\n",
      " King of Spades\n",
      " Ten of Clubs\n",
      " Queen of Spades\n",
      " Nine of Diamonds\n",
      " Eight of Clubs\n",
      " Seven of Clubs\n",
      " Two of Clubs\n",
      " Five of Clubs\n",
      " King of Hearts\n",
      " Queen of Clubs\n",
      " Nine of Spades\n",
      " Three of Spades\n",
      " Nine of Clubs\n",
      " Six of Spades\n",
      " Seven of Diamonds\n"
     ]
    }
   ],
   "source": [
    "test_deck = Deck()\n",
    "test_deck.shuffle()\n",
    "print(test_deck)"
   ]
  },
  {
   "cell_type": "code",
   "execution_count": 5,
   "metadata": {},
   "outputs": [],
   "source": [
    "class Hand:\n",
    "    \n",
    "    def __init__(self):\n",
    "        self.cards = []  # start with an empty list as we did in the Deck class\n",
    "        self.value = 0   # start with zero value\n",
    "        self.aces = 0    # add an attribute to keep track of aces\n",
    "    \n",
    "    def add_card(self,card):\n",
    "        self.cards.append(card)\n",
    "        self.value += values[card.rank]\n",
    "        if card.rank == 'Ace':\n",
    "            self.aces += 1  # add to self.aces\n",
    "    \n",
    "    def adjust_for_ace(self):\n",
    "        while self.value > 21 and self.aces:\n",
    "            self.value -= 10\n",
    "            self.aces -= 1"
   ]
  },
  {
   "cell_type": "code",
   "execution_count": 6,
   "metadata": {},
   "outputs": [
    {
     "data": {
      "text/plain": [
       "17"
      ]
     },
     "execution_count": 6,
     "metadata": {},
     "output_type": "execute_result"
    }
   ],
   "source": [
    "test_deck = Deck()\n",
    "test_deck.shuffle()\n",
    "test_player = Hand()\n",
    "test_player.add_card(test_deck.deal())\n",
    "test_player.add_card(test_deck.deal())\n",
    "test_player.value\n"
   ]
  },
  {
   "cell_type": "code",
   "execution_count": 7,
   "metadata": {},
   "outputs": [
    {
     "name": "stdout",
     "output_type": "stream",
     "text": [
      "Ace of Hearts\n",
      "Six of Spades\n"
     ]
    }
   ],
   "source": [
    "for card in test_player.cards:\n",
    "    print(card)"
   ]
  },
  {
   "cell_type": "code",
   "execution_count": 9,
   "metadata": {},
   "outputs": [],
   "source": [
    "class Chips:\n",
    "    \n",
    "    def __init__(self,total=100):\n",
    "        self.total = total  # This can be set to a default value or supplied by a user input\n",
    "        self.bet = 0\n",
    "        \n",
    "    def win_bet(self):\n",
    "        self.total += self.bet\n",
    "    \n",
    "    def lose_bet(self):\n",
    "        self.total -= self.bet"
   ]
  },
  {
   "cell_type": "code",
   "execution_count": 10,
   "metadata": {},
   "outputs": [],
   "source": [
    "def take_bet(chips):\n",
    "    \n",
    "    while True:\n",
    "        try:\n",
    "            chips.bet = int(input('How many chips would you like to bet? '))\n",
    "        except ValueError:\n",
    "            print('Sorry, a bet must be an integer!')\n",
    "        else:\n",
    "            if chips.bet > chips.total:\n",
    "                print(\"Sorry, your bet can't exceed\",chips.total)\n",
    "            else:\n",
    "                break"
   ]
  },
  {
   "cell_type": "code",
   "execution_count": 11,
   "metadata": {},
   "outputs": [],
   "source": [
    "def hit(deck,hand):\n",
    "    \n",
    "    hand.add_card(deck.deal())\n",
    "    hand.adjust_for_ace()"
   ]
  },
  {
   "cell_type": "code",
   "execution_count": 12,
   "metadata": {},
   "outputs": [],
   "source": [
    "def hit_or_stand(deck,hand):\n",
    "    global playing  # to control an upcoming while loop\n",
    "    \n",
    "    while True:\n",
    "        x = input(\"Would you like to Hit or Stand? Enter 'h' or 's' \")\n",
    "        \n",
    "        if x[0].lower() == 'h':\n",
    "            hit(deck,hand)  # hit() function defined above\n",
    "\n",
    "        elif x[0].lower() == 's':\n",
    "            print(\"Player stands. Dealer is playing.\")\n",
    "            playing = False\n",
    "\n",
    "        else:\n",
    "            print(\"Sorry, please try again.\")\n",
    "            continue\n",
    "        break"
   ]
  },
  {
   "cell_type": "code",
   "execution_count": 13,
   "metadata": {},
   "outputs": [],
   "source": [
    "\n",
    "def show_some(player,dealer):\n",
    "    print(\"\\nDealer's Hand:\")\n",
    "    print(\" <card hidden>\")\n",
    "    print('',dealer.cards[1])  \n",
    "    print(\"\\nPlayer's Hand:\", *player.cards, sep='\\n ')\n",
    "    \n",
    "def show_all(player,dealer):\n",
    "    print(\"\\nDealer's Hand:\", *dealer.cards, sep='\\n ')\n",
    "    print(\"Dealer's Hand =\",dealer.value)\n",
    "    print(\"\\nPlayer's Hand:\", *player.cards, sep='\\n ')\n",
    "    print(\"Player's Hand =\",player.value)"
   ]
  },
  {
   "cell_type": "code",
   "execution_count": 14,
   "metadata": {},
   "outputs": [],
   "source": [
    "def player_busts(player,dealer,chips):\n",
    "    print(\"Player busts!\")\n",
    "    chips.lose_bet()\n",
    "\n",
    "def player_wins(player,dealer,chips):\n",
    "    print(\"Player wins!\")\n",
    "    chips.win_bet()\n",
    "\n",
    "def dealer_busts(player,dealer,chips):\n",
    "    print(\"Dealer busts!\")\n",
    "    chips.win_bet()\n",
    "    \n",
    "def dealer_wins(player,dealer,chips):\n",
    "    print(\"Dealer wins!\")\n",
    "    chips.lose_bet()\n",
    "    \n",
    "def push(player,dealer):\n",
    "    print(\"Dealer and Player tie! It's a push.\")"
   ]
  },
  {
   "cell_type": "code",
   "execution_count": null,
   "metadata": {},
   "outputs": [],
   "source": []
  }
 ],
 "metadata": {
  "kernelspec": {
   "display_name": "Python 3",
   "language": "python",
   "name": "python3"
  },
  "language_info": {
   "codemirror_mode": {
    "name": "ipython",
    "version": 3
   },
   "file_extension": ".py",
   "mimetype": "text/x-python",
   "name": "python",
   "nbconvert_exporter": "python",
   "pygments_lexer": "ipython3",
   "version": "3.7.1"
  }
 },
 "nbformat": 4,
 "nbformat_minor": 2
}
