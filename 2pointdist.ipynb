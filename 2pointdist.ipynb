{
 "cells": [
  {
   "cell_type": "code",
   "execution_count": 15,
   "metadata": {},
   "outputs": [
    {
     "name": "stdout",
     "output_type": "stream",
     "text": [
      "enter x14\n",
      "enter x26\n",
      "enter y10\n",
      "enter y26\n",
      "6.324555320336759\n"
     ]
    }
   ],
   "source": [
    "import math\n",
    "# p1 = [4, 0]\n",
    "# p2 = [6, 6]\n",
    "x1 = int(input('enter x1'))\n",
    "x2 = int(input('enter x2'))\n",
    "y1 = int(input('enter y1'))\n",
    "y2 = int(input('enter y2'))\n",
    "distance = math.sqrt( ((x1-x2)**2)+((y1-y2)**2) )\n",
    "\n",
    "print(distance)"
   ]
  }
 ],
 "metadata": {
  "kernelspec": {
   "display_name": "Python 3",
   "language": "python",
   "name": "python3"
  },
  "language_info": {
   "codemirror_mode": {
    "name": "ipython",
    "version": 3
   },
   "file_extension": ".py",
   "mimetype": "text/x-python",
   "name": "python",
   "nbconvert_exporter": "python",
   "pygments_lexer": "ipython3",
   "version": "3.7.1"
  }
 },
 "nbformat": 4,
 "nbformat_minor": 2
}
