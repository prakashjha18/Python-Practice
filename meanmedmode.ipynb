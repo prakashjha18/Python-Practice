{
 "cells": [
  {
   "cell_type": "code",
   "execution_count": 2,
   "metadata": {},
   "outputs": [
    {
     "name": "stdout",
     "output_type": "stream",
     "text": [
      "Mean / Average is: 3.0\n"
     ]
    }
   ],
   "source": [
    "n_num = [1, 2, 3, 4, 5] \n",
    "n = len(n_num) \n",
    "  \n",
    "get_sum = sum(n_num) \n",
    "mean = get_sum / n \n",
    "  \n",
    "print(\"Mean / Average is: \" + str(mean))"
   ]
  },
  {
   "cell_type": "code",
   "execution_count": 34,
   "metadata": {},
   "outputs": [
    {
     "name": "stdout",
     "output_type": "stream",
     "text": [
      "median is: \n",
      "17.0\n"
     ]
    }
   ],
   "source": [
    "import math\n",
    "numbers = [3,10,36,255,79,24,5,8] \n",
    "numbers.sort()\n",
    "x= len(numbers)\n",
    "y= int(x/2)\n",
    "print(\"median is: \")\n",
    "if (x % 2 == 0):\n",
    "    print((numbers[y] + numbers[y-1])/2)\n",
    "else:\n",
    "    print(numbers[math.floor(x/2)])"
   ]
  },
  {
   "cell_type": "code",
   "execution_count": 36,
   "metadata": {},
   "outputs": [
    {
     "data": {
      "text/plain": [
       "5"
      ]
     },
     "execution_count": 36,
     "metadata": {},
     "output_type": "execute_result"
    }
   ],
   "source": [
    "lst = [2,5,5,6,8,8,9,11]\n",
    "print(\"mode is\")\n",
    "max(lst,key=lst.count)"
   ]
  }
 ],
 "metadata": {
  "kernelspec": {
   "display_name": "Python 3",
   "language": "python",
   "name": "python3"
  },
  "language_info": {
   "codemirror_mode": {
    "name": "ipython",
    "version": 3
   },
   "file_extension": ".py",
   "mimetype": "text/x-python",
   "name": "python",
   "nbconvert_exporter": "python",
   "pygments_lexer": "ipython3",
   "version": "3.7.1"
  }
 },
 "nbformat": 4,
 "nbformat_minor": 2
}
